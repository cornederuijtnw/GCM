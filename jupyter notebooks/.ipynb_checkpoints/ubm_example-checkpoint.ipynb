{
 "cells": [
  {
   "cell_type": "code",
   "execution_count": 1,
   "metadata": {},
   "outputs": [],
   "source": [
    "import os\n",
    "os.chdir(\"/Users/cornederuijt/github/GCM/\") # Adjust after construction of the package\n",
    "\n",
    "import numpy as np\n",
    "import pandas as pd\n",
    "from scripts.clickmodel_fitters.clickdefinitionreader import ClickDefinition\n",
    "from scripts.clickmodel_fitters.GCM import GCM\n",
    "from keras.models import Sequential\n",
    "from keras.layers import Dense\n",
    "from keras.optimizers import RMSprop\n",
    "from copy import deepcopy\n",
    "\n",
    "np.random.seed(1992)"
   ]
  },
  {
   "cell_type": "code",
   "execution_count": 3,
   "metadata": {},
   "outputs": [],
   "source": [
    "# Define the model\n",
    "\n",
    "list_size = 10\n",
    "no_states = 11\n",
    "ubm_click_states = np.eye(list_size + 1, list_size + 1)\n",
    "abs_state = [(i, i) for i in range(no_states)]\n",
    "init_state = 0\n",
    "batch_size = 10000\n",
    "no_items = 100\n",
    "\n",
    "var_dic = {\n",
    "    'phi_A': {\n",
    "        'var_type': 'item',\n",
    "        'pos_mat': np.triu(np.ones((list_size + 1, list_size + 1)), k=1)\n",
    "    },\n",
    "    'gamma': {\n",
    "        't0_fixed': 1,\n",
    "        'var_type': 'state',\n",
    "        'pos_mat': np.triu(np.ones((list_size + 1, list_size + 1)), k=1)\n",
    "    },\n",
    "    'tau': {\n",
    "        'var_type': 'pos',\n",
    "        'pos_mat': np.triu(np.ones((list_size + 1, list_size + 1)), k=1)\n",
    "    }\n",
    "}\n",
    "\n",
    "model_def = ClickDefinition(ubm_click_states, init_state, list_size, no_states, batch_size, no_items, abs_state,\n",
    "                            var_dic)"
   ]
  },
  {
   "cell_type": "code",
   "execution_count": null,
   "metadata": {},
   "outputs": [],
   "source": []
  }
 ],
 "metadata": {
  "kernelspec": {
   "display_name": "GCM2",
   "language": "python",
   "name": "gcm2"
  },
  "language_info": {
   "codemirror_mode": {
    "name": "ipython",
    "version": 3
   },
   "file_extension": ".py",
   "mimetype": "text/x-python",
   "name": "python",
   "nbconvert_exporter": "python",
   "pygments_lexer": "ipython3",
   "version": "3.8.5"
  }
 },
 "nbformat": 4,
 "nbformat_minor": 4
}
