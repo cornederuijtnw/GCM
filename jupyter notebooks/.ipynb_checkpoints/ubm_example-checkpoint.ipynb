{
 "cells": [
  {
   "cell_type": "code",
   "execution_count": 1,
   "metadata": {},
   "outputs": [
    {
     "ename": "SyntaxError",
     "evalue": "invalid syntax (<ipython-input-1-868eae6f845f>, line 17)",
     "output_type": "error",
     "traceback": [
      "\u001b[0;36m  File \u001b[0;32m\"<ipython-input-1-868eae6f845f>\"\u001b[0;36m, line \u001b[0;32m17\u001b[0m\n\u001b[0;31m    np.random.seed(1992)b\u001b[0m\n\u001b[0m                        ^\u001b[0m\n\u001b[0;31mSyntaxError\u001b[0m\u001b[0;31m:\u001b[0m invalid syntax\n"
     ]
    }
   ],
   "source": [
    "import os\n",
    "import numpy as np\n",
    "import pandas as pd\n",
    "\n",
    "os.chdir(\"/Users/cornederuijt/github/GCM/\") # Adjust after construction of the package\n",
    "\n",
    "from scripts.clickmodel_fitters.clickdefinitionreader import ClickDefinition\n",
    "from scripts.clickmodel_fitters.GCM import GCM\n",
    "\n",
    "import tensorflow as tf\n",
    "import tensorflow_probability as tfp\n",
    "from tensorflow.keras.models import Sequential\n",
    "from tensorflow.keras.layers import Dense\n",
    "from tensorflow.keras.optimizers import RMSprop\n",
    "from tensorflow.keras.layers import Layer\n",
    "\n",
    "np.random.seed(1992)"
   ]
  },
  {
   "cell_type": "code",
   "execution_count": null,
   "metadata": {},
   "outputs": [],
   "source": [
    "class SimpleDense(Layer):\n",
    "    def __init__(self, units=11):\n",
    "        super(SimpleDense, self).__init__()\n",
    "        self.units = units\n",
    "\n",
    "    def build(self, input_shape):  # Create the state of the layer (weights)\n",
    "        T = self.units - 1  # As we exclude the zero state for now\n",
    "        zero_init = tf.zeros_initializer()\n",
    "\n",
    "        self._w = tf.Variable(initial_value=zero_init(shape=(int(T * (T + 1) / 2),), dtype='float32'), trainable=True)\n",
    "        self._zero_col_var = tf.Variable(initial_value=zero_init(shape=(T + 1, 1), dtype='float32'), trainable=False)\n",
    "        self._zero_row_var = tf.Variable(initial_value=zero_init(shape=(1, T), dtype='float32'), trainable=False)\n",
    "\n",
    "        # mask:\n",
    "        t1 = tf.ones((T+1, T+1), dtype=\"float32\")\n",
    "        t2 = tf.subtract(t1, tf.eye(T+1, dtype=\"float32\"))\n",
    "        self._wout_mask = tf.multiply(tf.linalg.band_part(t1, 0, -1), t2)\n",
    "\n",
    "    def call(self, inputs, **kwargs):  # Defines the computation from inputs to outputs\n",
    "        # print(tf.shape(inputs)[0])\n",
    "        N = inputs.shape[0]\n",
    "        T = self.units\n",
    "        inp_lst = []\n",
    "\n",
    "        wout = tfp.math.fill_triangular(self._w, upper=True)\n",
    "        wout = tf.concat([wout, self._zero_row_var], axis=0)\n",
    "        wout = tf.concat([self._zero_col_var, wout], axis=1)\n",
    "\n",
    "        for t in range(N):\n",
    "            cur_input = tf.gather(inputs, t, axis=0)\n",
    "            cur_input = tf.tile(tf.reshape(cur_input, shape=(1, -1)), [T, 1])\n",
    "            logis = tf.multiply(cur_input, wout)\n",
    "\n",
    "            cur_mask = tf.multiply(cur_input, self._wout_mask)\n",
    "\n",
    "            inp_lst.append(tf.reshape(\n",
    "                tf.multiply(tf.transpose(tf.transpose(tf.exp(logis)) / tf.reduce_sum(tf.exp(logis), axis=1)),\n",
    "                              cur_mask), shape=(1, -1)))\n",
    "\n",
    "        res = tf.concat(inp_lst, axis=0)\n",
    "\n",
    "        return res"
   ]
  },
  {
   "cell_type": "code",
   "execution_count": null,
   "metadata": {},
   "outputs": [],
   "source": [
    "# Define the model\n",
    "list_size = 10\n",
    "no_states = 11\n",
    "ubm_click_states = np.eye(list_size + 1, list_size + 1)\n",
    "abs_state = [(i, i) for i in range(no_states)]\n",
    "init_state = 0\n",
    "batch_size = 10000\n",
    "no_items = 100\n",
    "\n",
    "var_dic = {\n",
    "    'phi_A': {\n",
    "        'var_type': 'item',\n",
    "        'pos_mat': np.triu(np.ones((list_size + 1, list_size + 1)), k=1)\n",
    "    },\n",
    "    'gamma': {\n",
    "        'var_type': 'pos',\n",
    "        'pos_mat': np.triu(np.ones((list_size + 1, list_size + 1)), k=1)\n",
    "    }\n",
    "}\n",
    "\n",
    "model_def = ClickDefinition(ubm_click_states, init_state, list_size, no_states, batch_size, no_items, abs_state,\n",
    "                            var_dic)"
   ]
  },
  {
   "cell_type": "code",
   "execution_count": 2,
   "metadata": {},
   "outputs": [
    {
     "ename": "NameError",
     "evalue": "name 'pd' is not defined",
     "output_type": "error",
     "traceback": [
      "\u001b[0;31m---------------------------------------------------------------------------\u001b[0m",
      "\u001b[0;31mNameError\u001b[0m                                 Traceback (most recent call last)",
      "\u001b[0;32m<ipython-input-2-a4c450015a27>\u001b[0m in \u001b[0;36m<module>\u001b[0;34m\u001b[0m\n\u001b[1;32m      1\u001b[0m \u001b[0;31m# Load data:\u001b[0m\u001b[0;34m\u001b[0m\u001b[0;34m\u001b[0m\u001b[0;34m\u001b[0m\u001b[0m\n\u001b[0;32m----> 2\u001b[0;31m \u001b[0mclick_data\u001b[0m \u001b[0;34m=\u001b[0m \u001b[0mpd\u001b[0m\u001b[0;34m.\u001b[0m\u001b[0mread_csv\u001b[0m\u001b[0;34m(\u001b[0m\u001b[0;34m\"./data/small_example/simulation_res_train.csv\"\u001b[0m\u001b[0;34m,\u001b[0m \u001b[0mindex_col\u001b[0m\u001b[0;34m=\u001b[0m\u001b[0;32mFalse\u001b[0m\u001b[0;34m)\u001b[0m\u001b[0;34m\u001b[0m\u001b[0;34m\u001b[0m\u001b[0m\n\u001b[0m\u001b[1;32m      3\u001b[0m \u001b[0mprod_position\u001b[0m \u001b[0;34m=\u001b[0m \u001b[0mpd\u001b[0m\u001b[0;34m.\u001b[0m\u001b[0mread_csv\u001b[0m\u001b[0;34m(\u001b[0m\u001b[0;34m\"./data/small_example/simulation_item_props.csv\"\u001b[0m\u001b[0;34m,\u001b[0m \u001b[0mindex_col\u001b[0m\u001b[0;34m=\u001b[0m\u001b[0;32mFalse\u001b[0m\u001b[0;34m)\u001b[0m\u001b[0;34m\u001b[0m\u001b[0;34m\u001b[0m\u001b[0m\n\u001b[1;32m      4\u001b[0m \u001b[0;34m\u001b[0m\u001b[0m\n\u001b[1;32m      5\u001b[0m \u001b[0;31m# Ensure the order is correct:\u001b[0m\u001b[0;34m\u001b[0m\u001b[0;34m\u001b[0m\u001b[0;34m\u001b[0m\u001b[0m\n",
      "\u001b[0;31mNameError\u001b[0m: name 'pd' is not defined"
     ]
    }
   ],
   "source": [
    "# Load data:\n",
    "click_data = pd.read_csv(\"./data/small_example/simulation_res_train.csv\", index_col=False)\n",
    "prod_position = pd.read_csv(\"./data/small_example/simulation_item_props.csv\", index_col=False)\n",
    "\n",
    "# Ensure the order is correct:\n",
    "click_data = click_data.sort_values(['user_id', 'session_count', 'item_order'])\n",
    "\n",
    "# Add session index:\n",
    "session_index = (click_data\n",
    "                 .loc[:, ['user_id', 'session_count']]\n",
    "                 .drop_duplicates()\n",
    "                 .reset_index()\n",
    "                 )\n",
    "\n",
    "session_index['session'] = session_index.index.to_numpy()\n",
    "\n",
    "click_data = (click_data\n",
    "              .set_index(['user_id', 'session_count'])\n",
    "              .join(session_index\n",
    "                    .set_index(['user_id', 'session_count']),\n",
    "                    on=['user_id', 'session_count'])\n",
    "              .reset_index()\n",
    "              .set_index('item')\n",
    "              .join(prod_position\n",
    "                    .set_index('item'),\n",
    "                    on='item')\n",
    "              .reset_index()\n",
    "              )\n",
    "\n",
    "click_data\n",
    "\n"
   ]
  },
  {
   "cell_type": "code",
   "execution_count": null,
   "metadata": {},
   "outputs": [],
   "source": [
    "# Create the click matrix and item position matrix\n",
    "click_mat = click_data.loc[:, ['session', 'item_order', 'click']] \\\n",
    "    .pivot(index='session', columns='item_order', values='click') \\\n",
    "    .to_numpy()\n",
    "\n",
    "item_pos_mat = click_data.loc[:, ['session', 'item_order', 'item']] \\\n",
    "    .pivot(index='session', columns='item_order', values='item') \\\n",
    "    .to_numpy()\n",
    "\n",
    "# Ensure the order is correct\n",
    "item_feature_mat_A = (click_data.loc[:, ['item', 'X0', 'X1']]\n",
    "                                .drop_duplicates()\n",
    "                                .sort_values('item')\n",
    "                                .to_numpy())\n",
    "\n",
    "pos_feature_gamma = np.eye(model_def.list_size, model_def.list_size + 1, k=1)\n",
    "\n",
    "var_dic = {'phi_A': item_feature_mat_A, 'gamma': pos_feature_gamma}"
   ]
  },
  {
   "cell_type": "code",
   "execution_count": null,
   "metadata": {},
   "outputs": [],
   "source": [
    "# Model:\n",
    "model_phi_A = Sequential()\n",
    "model_phi_A.add(Dense(1, input_dim=var_dic['phi_A'].shape[1], activation='sigmoid', use_bias=False))\n",
    "model_phi_A.compile(loss=GCM.pos_log_loss, optimizer=RMSprop())\n",
    "\n",
    "# Note the large output dimension and the softmax. We want multiple transition probabilities that sum up to 1\n",
    "# Its the shape**2, as we flatten the square matrix.\n",
    "model_gamma = Sequential()\n",
    "model_gamma.add(SimpleDense(no_states))\n",
    "model_gamma.compile(loss=GCM.pos_log_loss, optimizer=RMSprop())\n",
    "\n",
    "# model_tau = Sequential()\n",
    "# model_tau.add(Dense(var_dic['tau'].shape[1], input_dim=var_dic['tau'].shape[1], activation=None, use_bias=False,\n",
    "#                     kernel_initializer=Identity(), trainable=False))\n",
    "# model_tau.compile('rmsprop', 'binary_crossentropy')  # No trainable weights, so doesn't really matter\n",
    "\n",
    "var_models = {'phi_A': model_phi_A, 'gamma': model_gamma}"
   ]
  },
  {
   "cell_type": "code",
   "execution_count": null,
   "metadata": {},
   "outputs": [],
   "source": [
    "res = GCM.runEM(click_mat, var_dic, var_models, item_pos_mat, model_def, verbose=True)"
   ]
  },
  {
   "cell_type": "code",
   "execution_count": null,
   "metadata": {},
   "outputs": [],
   "source": []
  }
 ],
 "metadata": {
  "kernelspec": {
   "display_name": "GCM2",
   "language": "python",
   "name": "gcm2"
  },
  "language_info": {
   "codemirror_mode": {
    "name": "ipython",
    "version": 3
   },
   "file_extension": ".py",
   "mimetype": "text/x-python",
   "name": "python",
   "nbconvert_exporter": "python",
   "pygments_lexer": "ipython3",
   "version": "3.8.5"
  }
 },
 "nbformat": 4,
 "nbformat_minor": 4
}
